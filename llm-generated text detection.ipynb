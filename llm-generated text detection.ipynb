{
 "cells": [
  {
   "cell_type": "code",
   "execution_count": 1,
   "id": "b339a0c0",
   "metadata": {
    "execution": {
     "iopub.execute_input": "2024-01-17T22:20:51.883403Z",
     "iopub.status.busy": "2024-01-17T22:20:51.882686Z",
     "iopub.status.idle": "2024-01-17T22:21:05.958979Z",
     "shell.execute_reply": "2024-01-17T22:21:05.957470Z"
    },
    "papermill": {
     "duration": 14.098617,
     "end_time": "2024-01-17T22:21:05.962833",
     "exception": false,
     "start_time": "2024-01-17T22:20:51.864216",
     "status": "completed"
    },
    "tags": []
   },
   "outputs": [],
   "source": [
    "import sys\n",
    "import gc\n",
    "\n",
    "import pandas as pd\n",
    "from sklearn.model_selection import StratifiedKFold\n",
    "import numpy as np\n",
    "from sklearn.metrics import roc_auc_score\n",
    "import numpy as np\n",
    "from lightgbm import LGBMClassifier\n",
    "from sklearn.feature_extraction.text import TfidfVectorizer\n",
    "\n",
    "from tokenizers import (\n",
    "    decoders,\n",
    "    models,\n",
    "    normalizers,\n",
    "    pre_tokenizers,\n",
    "    processors,\n",
    "    trainers,\n",
    "    Tokenizer,\n",
    ")\n",
    "\n",
    "from datasets import Dataset\n",
    "from tqdm.auto import tqdm\n",
    "from transformers import PreTrainedTokenizerFast\n",
    "\n",
    "from sklearn.linear_model import SGDClassifier\n",
    "from sklearn.naive_bayes import MultinomialNB\n",
    "from sklearn.ensemble import VotingClassifier"
   ]
  },
  {
   "cell_type": "code",
   "execution_count": 2,
   "id": "d61e20e9",
   "metadata": {
    "execution": {
     "iopub.execute_input": "2024-01-17T22:21:05.991125Z",
     "iopub.status.busy": "2024-01-17T22:21:05.989720Z",
     "iopub.status.idle": "2024-01-17T22:21:06.030917Z",
     "shell.execute_reply": "2024-01-17T22:21:06.029502Z"
    },
    "papermill": {
     "duration": 0.059186,
     "end_time": "2024-01-17T22:21:06.034302",
     "exception": false,
     "start_time": "2024-01-17T22:21:05.975116",
     "status": "completed"
    },
    "tags": []
   },
   "outputs": [],
   "source": [
    "edge_cases = pd.read_csv(\"/kaggle/input/llm-daigt-find-edge-case/edge_cases.csv\")"
   ]
  },
  {
   "cell_type": "code",
   "execution_count": 3,
   "id": "f9a8cd0f",
   "metadata": {
    "execution": {
     "iopub.execute_input": "2024-01-17T22:21:06.061468Z",
     "iopub.status.busy": "2024-01-17T22:21:06.060894Z",
     "iopub.status.idle": "2024-01-17T22:21:08.840047Z",
     "shell.execute_reply": "2024-01-17T22:21:08.838767Z"
    },
    "papermill": {
     "duration": 2.796556,
     "end_time": "2024-01-17T22:21:08.843365",
     "exception": false,
     "start_time": "2024-01-17T22:21:06.046809",
     "status": "completed"
    },
    "tags": []
   },
   "outputs": [],
   "source": [
    "test = pd.read_csv('/kaggle/input/llm-detect-ai-generated-text/test_essays.csv')\n",
    "sub = pd.read_csv('/kaggle/input/llm-detect-ai-generated-text/sample_submission.csv')\n",
    "# org_train = pd.read_csv('/kaggle/input/llm-detect-ai-generated-text/train_essays.csv')\n",
    "\n",
    "train = pd.read_csv(\"/kaggle/input/daigt-v2-train-dataset/train_v2_drcat_02.csv\", sep=',')"
   ]
  },
  {
   "cell_type": "code",
   "execution_count": 4,
   "id": "f98c076b",
   "metadata": {
    "execution": {
     "iopub.execute_input": "2024-01-17T22:21:08.870643Z",
     "iopub.status.busy": "2024-01-17T22:21:08.870107Z",
     "iopub.status.idle": "2024-01-17T22:21:08.972298Z",
     "shell.execute_reply": "2024-01-17T22:21:08.970230Z"
    },
    "papermill": {
     "duration": 0.12076,
     "end_time": "2024-01-17T22:21:08.976147",
     "exception": false,
     "start_time": "2024-01-17T22:21:08.855387",
     "status": "completed"
    },
    "tags": []
   },
   "outputs": [],
   "source": [
    "train = train.drop_duplicates(subset=['text'])\n",
    "train.reset_index(drop=True, inplace=True)"
   ]
  },
  {
   "cell_type": "code",
   "execution_count": 5,
   "id": "50359719",
   "metadata": {
    "execution": {
     "iopub.execute_input": "2024-01-17T22:21:09.004409Z",
     "iopub.status.busy": "2024-01-17T22:21:09.003884Z",
     "iopub.status.idle": "2024-01-17T22:21:09.045598Z",
     "shell.execute_reply": "2024-01-17T22:21:09.043801Z"
    },
    "papermill": {
     "duration": 0.061269,
     "end_time": "2024-01-17T22:21:09.049706",
     "exception": false,
     "start_time": "2024-01-17T22:21:08.988437",
     "status": "completed"
    },
    "tags": []
   },
   "outputs": [],
   "source": [
    "excluded_prompt_name_list = ['Distance learning','Grades for extracurricular activities','Summer projects']\n",
    "train = train[~(train['prompt_name'].isin(excluded_prompt_name_list))]\n",
    "train = train.drop_duplicates(subset=['text'])\n",
    "train.reset_index(drop=True, inplace=True)"
   ]
  },
  {
   "cell_type": "code",
   "execution_count": 6,
   "id": "e29d12b1",
   "metadata": {
    "execution": {
     "iopub.execute_input": "2024-01-17T22:21:09.078421Z",
     "iopub.status.busy": "2024-01-17T22:21:09.077845Z",
     "iopub.status.idle": "2024-01-17T22:21:09.092955Z",
     "shell.execute_reply": "2024-01-17T22:21:09.091309Z"
    },
    "papermill": {
     "duration": 0.033979,
     "end_time": "2024-01-17T22:21:09.096144",
     "exception": false,
     "start_time": "2024-01-17T22:21:09.062165",
     "status": "completed"
    },
    "tags": []
   },
   "outputs": [],
   "source": [
    "hkw = ['because', 'then', 'dont', 'texting', 'probably', 'almost']\n",
    "mkw = ['additionally', 'significant', 'attitude', 'failure', 'climate', 'ensures', 'address', 'achieving', 'graduating', 'engagement', 'determination', 'impression', 'drawbacks', 'modes', 'enthusiasm', 'kindness', 'prioritize', 'urban', 'commitments', 'embrace', 'reliance', 'supportive', 'fulfilling', 'stricter', 'adopting', 'argues', 'conservation', 'gun', 'artificial', 'violent', 'foster', 'failures', 'initial', 'employers', 'stability', 'meat', 'monitoring', 'aim', 'libraries', 'geological', 'committing', 'external', 'maintenance', 'footprint', 'undemocratic', 'platforms', 'consumption', 'shaping', 'biases', 'highlights', 'invaluable', 'societal', 'infrastructure', 'integral', 'diet', 'populous', 'insights', 'chronic', 'profound', 'sustainable', 'livable', 'internships', 'constitutional', 'setbacks', 'codes', 'inclusive', 'align', 'successes', 'delays', 'densely', 'marine', 'ethical', 'belonging', 'guns', 'addressing', 'appreciation', 'trump', 'smith', 'fosters', 'wage', 'firsthand', 'cyberbullying', 'emphasizes', 'embracing']\n",
    "\n",
    "def count_keywords(text, keywords):\n",
    "    count = 0\n",
    "    ltext = text.lower()\n",
    "    for kw in keywords:\n",
    "        count += (kw in ltext)\n",
    "\n",
    "    return count"
   ]
  },
  {
   "cell_type": "code",
   "execution_count": 7,
   "id": "d481b9da",
   "metadata": {
    "execution": {
     "iopub.execute_input": "2024-01-17T22:21:09.123125Z",
     "iopub.status.busy": "2024-01-17T22:21:09.122590Z",
     "iopub.status.idle": "2024-01-17T22:21:09.128776Z",
     "shell.execute_reply": "2024-01-17T22:21:09.127173Z"
    },
    "papermill": {
     "duration": 0.023749,
     "end_time": "2024-01-17T22:21:09.131851",
     "exception": false,
     "start_time": "2024-01-17T22:21:09.108102",
     "status": "completed"
    },
    "tags": []
   },
   "outputs": [],
   "source": [
    "LOWERCASE = False\n",
    "VOCAB_SIZE = 14000000"
   ]
  },
  {
   "cell_type": "code",
   "execution_count": 8,
   "id": "42c8f8d8",
   "metadata": {
    "execution": {
     "iopub.execute_input": "2024-01-17T22:21:09.159274Z",
     "iopub.status.busy": "2024-01-17T22:21:09.158706Z",
     "iopub.status.idle": "2024-01-17T22:23:37.653291Z",
     "shell.execute_reply": "2024-01-17T22:23:37.651836Z"
    },
    "papermill": {
     "duration": 148.51226,
     "end_time": "2024-01-17T22:23:37.656249",
     "exception": false,
     "start_time": "2024-01-17T22:21:09.143989",
     "status": "completed"
    },
    "tags": []
   },
   "outputs": [
    {
     "name": "stdout",
     "output_type": "stream",
     "text": [
      "\n",
      "\n",
      "\n"
     ]
    },
    {
     "data": {
      "application/vnd.jupyter.widget-view+json": {
       "model_id": "4e222b92080244849186c9d67670c4b3",
       "version_major": 2,
       "version_minor": 0
      },
      "text/plain": [
       "  0%|          | 0/3 [00:00<?, ?it/s]"
      ]
     },
     "metadata": {},
     "output_type": "display_data"
    },
    {
     "data": {
      "application/vnd.jupyter.widget-view+json": {
       "model_id": "36594e01bd9c43cfaccc0d57adec44ed",
       "version_major": 2,
       "version_minor": 0
      },
      "text/plain": [
       "  0%|          | 0/34497 [00:00<?, ?it/s]"
      ]
     },
     "metadata": {},
     "output_type": "display_data"
    }
   ],
   "source": [
    "# Creating Byte-Pair Encoding tokenizer\n",
    "raw_tokenizer = Tokenizer(models.BPE(unk_token=\"[UNK]\"))\n",
    "# Adding normalization and pre_tokenizer\n",
    "raw_tokenizer.normalizer = normalizers.Sequence([normalizers.NFC()] + [normalizers.Lowercase()] if LOWERCASE else [])\n",
    "raw_tokenizer.pre_tokenizer = pre_tokenizers.ByteLevel()\n",
    "# Adding special tokens and creating trainer instance\n",
    "special_tokens = [\"[UNK]\", \"[PAD]\", \"[CLS]\", \"[SEP]\", \"[MASK]\"]\n",
    "trainer = trainers.BpeTrainer(vocab_size=VOCAB_SIZE, special_tokens=special_tokens)\n",
    "# Creating huggingface dataset object\n",
    "dataset = Dataset.from_pandas(test[['text']])\n",
    "def train_corp_iter(): \n",
    "    for i in range(0, len(dataset), 1000):\n",
    "        yield dataset[i : i + 1000][\"text\"]\n",
    "raw_tokenizer.train_from_iterator(train_corp_iter(), trainer=trainer)\n",
    "tokenizer = PreTrainedTokenizerFast(\n",
    "    tokenizer_object=raw_tokenizer,\n",
    "    unk_token=\"[UNK]\",\n",
    "    pad_token=\"[PAD]\",\n",
    "    cls_token=\"[CLS]\",\n",
    "    sep_token=\"[SEP]\",\n",
    "    mask_token=\"[MASK]\",\n",
    ")\n",
    "tokenized_texts_test = []\n",
    "\n",
    "for text in tqdm(test['text'].tolist()):\n",
    "    tokenized_texts_test.append(tokenizer.tokenize(text))\n",
    "\n",
    "tokenized_texts_train = []\n",
    "\n",
    "for text in tqdm(train['text'].tolist()):\n",
    "    tokenized_texts_train.append(tokenizer.tokenize(text))"
   ]
  },
  {
   "cell_type": "code",
   "execution_count": 9,
   "id": "137811e7",
   "metadata": {
    "execution": {
     "iopub.execute_input": "2024-01-17T22:23:37.687497Z",
     "iopub.status.busy": "2024-01-17T22:23:37.685779Z",
     "iopub.status.idle": "2024-01-17T22:23:37.697932Z",
     "shell.execute_reply": "2024-01-17T22:23:37.695724Z"
    },
    "papermill": {
     "duration": 0.030973,
     "end_time": "2024-01-17T22:23:37.701370",
     "exception": false,
     "start_time": "2024-01-17T22:23:37.670397",
     "status": "completed"
    },
    "tags": []
   },
   "outputs": [
    {
     "data": {
      "text/plain": [
       "['ĠBbb', 'Ġccc', 'Ġddd', '.']"
      ]
     },
     "execution_count": 9,
     "metadata": {},
     "output_type": "execute_result"
    }
   ],
   "source": [
    "tokenized_texts_test[1]"
   ]
  },
  {
   "cell_type": "code",
   "execution_count": 10,
   "id": "11127d78",
   "metadata": {
    "execution": {
     "iopub.execute_input": "2024-01-17T22:23:37.729564Z",
     "iopub.status.busy": "2024-01-17T22:23:37.729034Z",
     "iopub.status.idle": "2024-01-17T22:23:37.735232Z",
     "shell.execute_reply": "2024-01-17T22:23:37.733761Z"
    },
    "papermill": {
     "duration": 0.024693,
     "end_time": "2024-01-17T22:23:37.738552",
     "exception": false,
     "start_time": "2024-01-17T22:23:37.713859",
     "status": "completed"
    },
    "tags": []
   },
   "outputs": [],
   "source": [
    "def dummy(text):\n",
    "    return text"
   ]
  },
  {
   "cell_type": "code",
   "execution_count": 11,
   "id": "89d6b877",
   "metadata": {
    "execution": {
     "iopub.execute_input": "2024-01-17T22:23:37.767665Z",
     "iopub.status.busy": "2024-01-17T22:23:37.767094Z",
     "iopub.status.idle": "2024-01-17T22:27:33.168915Z",
     "shell.execute_reply": "2024-01-17T22:27:33.166644Z"
    },
    "papermill": {
     "duration": 235.432801,
     "end_time": "2024-01-17T22:27:33.184738",
     "exception": false,
     "start_time": "2024-01-17T22:23:37.751937",
     "status": "completed"
    },
    "tags": []
   },
   "outputs": [
    {
     "name": "stdout",
     "output_type": "stream",
     "text": [
      "{'ĠAaa Ġbbb Ġccc': 0, 'Ġbbb Ġccc .': 6, 'ĠAaa Ġbbb Ġccc .': 1, 'ĠBbb Ġccc Ġddd': 2, 'Ġccc Ġddd .': 7, 'ĠBbb Ġccc Ġddd .': 3, 'ĠCCC Ġddd Ġeee': 4, 'Ġddd Ġeee .': 8, 'ĠCCC Ġddd Ġeee .': 5}\n"
     ]
    },
    {
     "data": {
      "text/plain": [
       "23"
      ]
     },
     "execution_count": 11,
     "metadata": {},
     "output_type": "execute_result"
    }
   ],
   "source": [
    "vectorizer = TfidfVectorizer(ngram_range=(3, 5), lowercase=False, sublinear_tf=True, analyzer = 'word',\n",
    "    tokenizer = dummy,\n",
    "    preprocessor = dummy,\n",
    "    token_pattern = None, strip_accents='unicode')\n",
    "\n",
    "vectorizer.fit(tokenized_texts_test)\n",
    "\n",
    "# Getting vocab\n",
    "vocab = vectorizer.vocabulary_\n",
    "\n",
    "print(vocab)\n",
    "\n",
    "vectorizer = TfidfVectorizer(ngram_range=(3, 5), lowercase=False, sublinear_tf=True, vocabulary=vocab,\n",
    "                            analyzer = 'word',\n",
    "                            tokenizer = dummy,\n",
    "                            preprocessor = dummy,\n",
    "                            token_pattern = None, strip_accents='unicode'\n",
    "                            )\n",
    "\n",
    "tf_train = vectorizer.fit_transform(tokenized_texts_train)\n",
    "tf_test = vectorizer.transform(tokenized_texts_test)\n",
    "\n",
    "del vectorizer\n",
    "gc.collect()"
   ]
  },
  {
   "cell_type": "code",
   "execution_count": 12,
   "id": "b4980221",
   "metadata": {
    "execution": {
     "iopub.execute_input": "2024-01-17T22:27:33.215526Z",
     "iopub.status.busy": "2024-01-17T22:27:33.215013Z",
     "iopub.status.idle": "2024-01-17T22:27:33.221909Z",
     "shell.execute_reply": "2024-01-17T22:27:33.220165Z"
    },
    "papermill": {
     "duration": 0.026352,
     "end_time": "2024-01-17T22:27:33.225269",
     "exception": false,
     "start_time": "2024-01-17T22:27:33.198917",
     "status": "completed"
    },
    "tags": []
   },
   "outputs": [],
   "source": [
    "y_train = train['label'].values"
   ]
  },
  {
   "cell_type": "code",
   "execution_count": 13,
   "id": "eaaa2436",
   "metadata": {
    "execution": {
     "iopub.execute_input": "2024-01-17T22:27:33.257226Z",
     "iopub.status.busy": "2024-01-17T22:27:33.256634Z",
     "iopub.status.idle": "2024-01-17T22:27:33.813486Z",
     "shell.execute_reply": "2024-01-17T22:27:33.812153Z"
    },
    "papermill": {
     "duration": 0.576922,
     "end_time": "2024-01-17T22:27:33.816838",
     "exception": false,
     "start_time": "2024-01-17T22:27:33.239916",
     "status": "completed"
    },
    "tags": []
   },
   "outputs": [
    {
     "name": "stdout",
     "output_type": "stream",
     "text": [
      "VotingClassifier(estimators=[('mnb', MultinomialNB(alpha=0.0225)),\n",
      "                             ('sgd',\n",
      "                              SGDClassifier(loss='modified_huber',\n",
      "                                            max_iter=9000, random_state=6743,\n",
      "                                            tol=0.0001)),\n",
      "                             ('lgb',\n",
      "                              LGBMClassifier(colsample_bynode=0.8,\n",
      "                                             colsample_bytree=0.78,\n",
      "                                             learning_rate=0.00581909898961407,\n",
      "                                             metric='auc', n_iter=3000,\n",
      "                                             objective='cross_entropy',\n",
      "                                             random_state=6743, verbose=-1)),\n",
      "                             ('cat',\n",
      "                              <catboost.core.CatBoostClassifier object at 0x7967c19d3190>)],\n",
      "                 n_jobs=-1, voting='soft', weights=[0.1, 0.31, 0.28, 0.67])\n"
     ]
    }
   ],
   "source": [
    "def get_model():\n",
    "    from catboost import CatBoostClassifier\n",
    "    from sklearn.linear_model import LogisticRegression\n",
    "\n",
    "#     clf2 = MultinomialNB(alpha=0.01)\n",
    "    clf = MultinomialNB(alpha=0.0225)\n",
    "#     clf2 = MultinomialNB(alpha=0.01)\n",
    "    sgd_model = SGDClassifier(max_iter=9000, tol=1e-4, loss=\"modified_huber\", random_state=6743)\n",
    "#     log_model = LogisticRegression( tol=1e-4,random_state=6743)\n",
    "    p6={'n_iter': 3000,'verbose': -1,'objective': 'cross_entropy','metric': 'auc',\n",
    "        'learning_rate': 0.00581909898961407, 'colsample_bytree': 0.78,\n",
    "        'colsample_bynode': 0.8,\n",
    "#         'lambda_l1': 4.562963348932286, \n",
    "       # 'lambda_l2': 2.97485, 'min_data_in_leaf': 115, 'max_depth': 23, 'max_bin': 898\n",
    "       }\n",
    "    p6[\"random_state\"] = 6743\n",
    "    lgb=LGBMClassifier(**p6)\n",
    "    cat=CatBoostClassifier(iterations=3000,\n",
    "                           verbose=0,\n",
    "                           random_seed=6543,\n",
    "#                            l2_leaf_reg=6.6591278779517808,\n",
    "                           learning_rate=0.005599066836106983,\n",
    "                           subsample = 0.35,\n",
    "                           allow_const_label=True,loss_function = 'CrossEntropy')\n",
    "    weights = [0.1,0.31,0.28,0.67]\n",
    " \n",
    "    ensemble = VotingClassifier(estimators=[('mnb',clf),\n",
    "                                            ('sgd', sgd_model),\n",
    "                                            ('lgb',lgb), \n",
    "                                            ('cat', cat)\n",
    "                                           ],\n",
    "                                weights=weights, voting='soft', n_jobs=-1)\n",
    "    return ensemble\n",
    "\n",
    "model = get_model()\n",
    "print(model)\n",
    "\n",
    "if len(test.text.values) <= 5:\n",
    "    # if not, just sample submission\n",
    "    sub.to_csv('submission.csv', index=False)\n",
    "else:\n",
    "    model.fit(tf_train, y_train)\n",
    "    gc.collect()\n",
    "\n",
    "    final_preds = model.predict_proba(tf_test)[:, 1]\n",
    "    sub['generated'] = final_preds\n",
    "\n",
    "    # Post-processing\n",
    "    prob_df = pd.DataFrame()\n",
    "    test[\"h_keyword_count\"] = test['text'].apply(count_keywords, keywords=hkw)\n",
    "    test[\"m_keyword_count\"] = test['text'].apply(count_keywords, keywords=mkw)\n",
    "    prob_df['prob'] = final_preds\n",
    "    prob_df['new_prob'] = np.where(prob_df['prob'] <= prob_df['prob'].quantile(0.50),\n",
    "                                   prob_df['prob'] - test['h_keyword_count'] * (prob_df['prob'] * 0.10),\n",
    "                                   prob_df['prob'])\n",
    "    prob_df['new_prob'] = np.where(prob_df['prob'] > prob_df['prob'].quantile(0.50),\n",
    "                                   prob_df['prob'] + test['m_keyword_count'] * (prob_df['prob'] * 0.10),\n",
    "                                   prob_df['new_prob'])\n",
    "\n",
    "    # Update final predictions with adjusted probabilities\n",
    "    sub['generated'] = prob_df['new_prob']\n",
    "\n",
    "    # Save the final submission\n",
    "    sub.to_csv('submission.csv', index=False)\n",
    "    sub"
   ]
  },
  {
   "cell_type": "code",
   "execution_count": null,
   "id": "7b9a2652",
   "metadata": {
    "execution": {
     "iopub.execute_input": "2023-11-30T11:55:25.787757Z",
     "iopub.status.busy": "2023-11-30T11:55:25.787323Z",
     "iopub.status.idle": "2023-11-30T11:55:25.796215Z",
     "shell.execute_reply": "2023-11-30T11:55:25.795136Z",
     "shell.execute_reply.started": "2023-11-30T11:55:25.787715Z"
    },
    "papermill": {
     "duration": 0.012728,
     "end_time": "2024-01-17T22:27:33.842409",
     "exception": false,
     "start_time": "2024-01-17T22:27:33.829681",
     "status": "completed"
    },
    "tags": []
   },
   "outputs": [],
   "source": []
  },
  {
   "cell_type": "code",
   "execution_count": null,
   "id": "f2b7bf3e",
   "metadata": {
    "execution": {
     "iopub.execute_input": "2023-11-30T11:55:25.798366Z",
     "iopub.status.busy": "2023-11-30T11:55:25.797868Z",
     "iopub.status.idle": "2023-11-30T11:55:25.827605Z",
     "shell.execute_reply": "2023-11-30T11:55:25.826218Z",
     "shell.execute_reply.started": "2023-11-30T11:55:25.798332Z"
    },
    "papermill": {
     "duration": 0.014275,
     "end_time": "2024-01-17T22:27:33.870166",
     "exception": false,
     "start_time": "2024-01-17T22:27:33.855891",
     "status": "completed"
    },
    "tags": []
   },
   "outputs": [],
   "source": []
  }
 ],
 "metadata": {
  "kaggle": {
   "accelerator": "none",
   "dataSources": [
    {
     "databundleVersionId": 6888007,
     "sourceId": 61542,
     "sourceType": "competition"
    },
    {
     "datasetId": 4005256,
     "sourceId": 6977472,
     "sourceType": "datasetVersion"
    },
    {
     "datasetId": 4099711,
     "sourceId": 7110479,
     "sourceType": "datasetVersion"
    },
    {
     "datasetId": 4104703,
     "sourceId": 7117339,
     "sourceType": "datasetVersion"
    },
    {
     "sourceId": 155681847,
     "sourceType": "kernelVersion"
    }
   ],
   "dockerImageVersionId": 30587,
   "isGpuEnabled": false,
   "isInternetEnabled": false,
   "language": "python",
   "sourceType": "notebook"
  },
  "kernelspec": {
   "display_name": "Python 3",
   "language": "python",
   "name": "python3"
  },
  "language_info": {
   "codemirror_mode": {
    "name": "ipython",
    "version": 3
   },
   "file_extension": ".py",
   "mimetype": "text/x-python",
   "name": "python",
   "nbconvert_exporter": "python",
   "pygments_lexer": "ipython3",
   "version": "3.10.12"
  },
  "papermill": {
   "default_parameters": {},
   "duration": 409.783521,
   "end_time": "2024-01-17T22:27:36.712866",
   "environment_variables": {},
   "exception": null,
   "input_path": "__notebook__.ipynb",
   "output_path": "__notebook__.ipynb",
   "parameters": {},
   "start_time": "2024-01-17T22:20:46.929345",
   "version": "2.4.0"
  },
  "widgets": {
   "application/vnd.jupyter.widget-state+json": {
    "state": {
     "03c2aad1c4f74231ab9b0809ed9f400f": {
      "model_module": "@jupyter-widgets/base",
      "model_module_version": "1.2.0",
      "model_name": "LayoutModel",
      "state": {
       "_model_module": "@jupyter-widgets/base",
       "_model_module_version": "1.2.0",
       "_model_name": "LayoutModel",
       "_view_count": null,
       "_view_module": "@jupyter-widgets/base",
       "_view_module_version": "1.2.0",
       "_view_name": "LayoutView",
       "align_content": null,
       "align_items": null,
       "align_self": null,
       "border": null,
       "bottom": null,
       "display": null,
       "flex": null,
       "flex_flow": null,
       "grid_area": null,
       "grid_auto_columns": null,
       "grid_auto_flow": null,
       "grid_auto_rows": null,
       "grid_column": null,
       "grid_gap": null,
       "grid_row": null,
       "grid_template_areas": null,
       "grid_template_columns": null,
       "grid_template_rows": null,
       "height": null,
       "justify_content": null,
       "justify_items": null,
       "left": null,
       "margin": null,
       "max_height": null,
       "max_width": null,
       "min_height": null,
       "min_width": null,
       "object_fit": null,
       "object_position": null,
       "order": null,
       "overflow": null,
       "overflow_x": null,
       "overflow_y": null,
       "padding": null,
       "right": null,
       "top": null,
       "visibility": null,
       "width": null
      }
     },
     "048496e433d842ee854bfbeadfc2b55e": {
      "model_module": "@jupyter-widgets/controls",
      "model_module_version": "1.5.0",
      "model_name": "DescriptionStyleModel",
      "state": {
       "_model_module": "@jupyter-widgets/controls",
       "_model_module_version": "1.5.0",
       "_model_name": "DescriptionStyleModel",
       "_view_count": null,
       "_view_module": "@jupyter-widgets/base",
       "_view_module_version": "1.2.0",
       "_view_name": "StyleView",
       "description_width": ""
      }
     },
     "07a74f090fb04ae69486f384301c5a6f": {
      "model_module": "@jupyter-widgets/controls",
      "model_module_version": "1.5.0",
      "model_name": "DescriptionStyleModel",
      "state": {
       "_model_module": "@jupyter-widgets/controls",
       "_model_module_version": "1.5.0",
       "_model_name": "DescriptionStyleModel",
       "_view_count": null,
       "_view_module": "@jupyter-widgets/base",
       "_view_module_version": "1.2.0",
       "_view_name": "StyleView",
       "description_width": ""
      }
     },
     "0e588d42f1594e5a9544019986bdef15": {
      "model_module": "@jupyter-widgets/controls",
      "model_module_version": "1.5.0",
      "model_name": "FloatProgressModel",
      "state": {
       "_dom_classes": [],
       "_model_module": "@jupyter-widgets/controls",
       "_model_module_version": "1.5.0",
       "_model_name": "FloatProgressModel",
       "_view_count": null,
       "_view_module": "@jupyter-widgets/controls",
       "_view_module_version": "1.5.0",
       "_view_name": "ProgressView",
       "bar_style": "success",
       "description": "",
       "description_tooltip": null,
       "layout": "IPY_MODEL_1d3fda26754f4390a129bc004db503e1",
       "max": 34497.0,
       "min": 0.0,
       "orientation": "horizontal",
       "style": "IPY_MODEL_8bc6c05596374a0f839b426516742b11",
       "value": 34497.0
      }
     },
     "10c65d45ab0d49d5bf32f924e3557fae": {
      "model_module": "@jupyter-widgets/controls",
      "model_module_version": "1.5.0",
      "model_name": "HTMLModel",
      "state": {
       "_dom_classes": [],
       "_model_module": "@jupyter-widgets/controls",
       "_model_module_version": "1.5.0",
       "_model_name": "HTMLModel",
       "_view_count": null,
       "_view_module": "@jupyter-widgets/controls",
       "_view_module_version": "1.5.0",
       "_view_name": "HTMLView",
       "description": "",
       "description_tooltip": null,
       "layout": "IPY_MODEL_03c2aad1c4f74231ab9b0809ed9f400f",
       "placeholder": "​",
       "style": "IPY_MODEL_2bf27e4f80294aee8679ba4215fe4f1e",
       "value": " 34497/34497 [02:28&lt;00:00, 237.90it/s]"
      }
     },
     "1d3fda26754f4390a129bc004db503e1": {
      "model_module": "@jupyter-widgets/base",
      "model_module_version": "1.2.0",
      "model_name": "LayoutModel",
      "state": {
       "_model_module": "@jupyter-widgets/base",
       "_model_module_version": "1.2.0",
       "_model_name": "LayoutModel",
       "_view_count": null,
       "_view_module": "@jupyter-widgets/base",
       "_view_module_version": "1.2.0",
       "_view_name": "LayoutView",
       "align_content": null,
       "align_items": null,
       "align_self": null,
       "border": null,
       "bottom": null,
       "display": null,
       "flex": null,
       "flex_flow": null,
       "grid_area": null,
       "grid_auto_columns": null,
       "grid_auto_flow": null,
       "grid_auto_rows": null,
       "grid_column": null,
       "grid_gap": null,
       "grid_row": null,
       "grid_template_areas": null,
       "grid_template_columns": null,
       "grid_template_rows": null,
       "height": null,
       "justify_content": null,
       "justify_items": null,
       "left": null,
       "margin": null,
       "max_height": null,
       "max_width": null,
       "min_height": null,
       "min_width": null,
       "object_fit": null,
       "object_position": null,
       "order": null,
       "overflow": null,
       "overflow_x": null,
       "overflow_y": null,
       "padding": null,
       "right": null,
       "top": null,
       "visibility": null,
       "width": null
      }
     },
     "20c82f7745a24bc789869c1b1da4c774": {
      "model_module": "@jupyter-widgets/base",
      "model_module_version": "1.2.0",
      "model_name": "LayoutModel",
      "state": {
       "_model_module": "@jupyter-widgets/base",
       "_model_module_version": "1.2.0",
       "_model_name": "LayoutModel",
       "_view_count": null,
       "_view_module": "@jupyter-widgets/base",
       "_view_module_version": "1.2.0",
       "_view_name": "LayoutView",
       "align_content": null,
       "align_items": null,
       "align_self": null,
       "border": null,
       "bottom": null,
       "display": null,
       "flex": null,
       "flex_flow": null,
       "grid_area": null,
       "grid_auto_columns": null,
       "grid_auto_flow": null,
       "grid_auto_rows": null,
       "grid_column": null,
       "grid_gap": null,
       "grid_row": null,
       "grid_template_areas": null,
       "grid_template_columns": null,
       "grid_template_rows": null,
       "height": null,
       "justify_content": null,
       "justify_items": null,
       "left": null,
       "margin": null,
       "max_height": null,
       "max_width": null,
       "min_height": null,
       "min_width": null,
       "object_fit": null,
       "object_position": null,
       "order": null,
       "overflow": null,
       "overflow_x": null,
       "overflow_y": null,
       "padding": null,
       "right": null,
       "top": null,
       "visibility": null,
       "width": null
      }
     },
     "2bf27e4f80294aee8679ba4215fe4f1e": {
      "model_module": "@jupyter-widgets/controls",
      "model_module_version": "1.5.0",
      "model_name": "DescriptionStyleModel",
      "state": {
       "_model_module": "@jupyter-widgets/controls",
       "_model_module_version": "1.5.0",
       "_model_name": "DescriptionStyleModel",
       "_view_count": null,
       "_view_module": "@jupyter-widgets/base",
       "_view_module_version": "1.2.0",
       "_view_name": "StyleView",
       "description_width": ""
      }
     },
     "32a7e70bdb7d4266a08ed2b58d67f932": {
      "model_module": "@jupyter-widgets/controls",
      "model_module_version": "1.5.0",
      "model_name": "HTMLModel",
      "state": {
       "_dom_classes": [],
       "_model_module": "@jupyter-widgets/controls",
       "_model_module_version": "1.5.0",
       "_model_name": "HTMLModel",
       "_view_count": null,
       "_view_module": "@jupyter-widgets/controls",
       "_view_module_version": "1.5.0",
       "_view_name": "HTMLView",
       "description": "",
       "description_tooltip": null,
       "layout": "IPY_MODEL_ffa02054dfe74124a40be3b79eed22d9",
       "placeholder": "​",
       "style": "IPY_MODEL_048496e433d842ee854bfbeadfc2b55e",
       "value": " 3/3 [00:00&lt;00:00, 144.56it/s]"
      }
     },
     "36594e01bd9c43cfaccc0d57adec44ed": {
      "model_module": "@jupyter-widgets/controls",
      "model_module_version": "1.5.0",
      "model_name": "HBoxModel",
      "state": {
       "_dom_classes": [],
       "_model_module": "@jupyter-widgets/controls",
       "_model_module_version": "1.5.0",
       "_model_name": "HBoxModel",
       "_view_count": null,
       "_view_module": "@jupyter-widgets/controls",
       "_view_module_version": "1.5.0",
       "_view_name": "HBoxView",
       "box_style": "",
       "children": [
        "IPY_MODEL_ba2a7fe4bdfa4d1caad5244174d8d98f",
        "IPY_MODEL_0e588d42f1594e5a9544019986bdef15",
        "IPY_MODEL_10c65d45ab0d49d5bf32f924e3557fae"
       ],
       "layout": "IPY_MODEL_c72c85eb8cef4b96b1062bc66cf81e7d"
      }
     },
     "4e222b92080244849186c9d67670c4b3": {
      "model_module": "@jupyter-widgets/controls",
      "model_module_version": "1.5.0",
      "model_name": "HBoxModel",
      "state": {
       "_dom_classes": [],
       "_model_module": "@jupyter-widgets/controls",
       "_model_module_version": "1.5.0",
       "_model_name": "HBoxModel",
       "_view_count": null,
       "_view_module": "@jupyter-widgets/controls",
       "_view_module_version": "1.5.0",
       "_view_name": "HBoxView",
       "box_style": "",
       "children": [
        "IPY_MODEL_ebcf07973004454b832c23d3a277b97e",
        "IPY_MODEL_6ed81cd096c348ef8631ecd05de4ee8d",
        "IPY_MODEL_32a7e70bdb7d4266a08ed2b58d67f932"
       ],
       "layout": "IPY_MODEL_a6ef51cf814741648126fd95f54bd104"
      }
     },
     "67001257c823485c919c7c7be7c6d0c7": {
      "model_module": "@jupyter-widgets/base",
      "model_module_version": "1.2.0",
      "model_name": "LayoutModel",
      "state": {
       "_model_module": "@jupyter-widgets/base",
       "_model_module_version": "1.2.0",
       "_model_name": "LayoutModel",
       "_view_count": null,
       "_view_module": "@jupyter-widgets/base",
       "_view_module_version": "1.2.0",
       "_view_name": "LayoutView",
       "align_content": null,
       "align_items": null,
       "align_self": null,
       "border": null,
       "bottom": null,
       "display": null,
       "flex": null,
       "flex_flow": null,
       "grid_area": null,
       "grid_auto_columns": null,
       "grid_auto_flow": null,
       "grid_auto_rows": null,
       "grid_column": null,
       "grid_gap": null,
       "grid_row": null,
       "grid_template_areas": null,
       "grid_template_columns": null,
       "grid_template_rows": null,
       "height": null,
       "justify_content": null,
       "justify_items": null,
       "left": null,
       "margin": null,
       "max_height": null,
       "max_width": null,
       "min_height": null,
       "min_width": null,
       "object_fit": null,
       "object_position": null,
       "order": null,
       "overflow": null,
       "overflow_x": null,
       "overflow_y": null,
       "padding": null,
       "right": null,
       "top": null,
       "visibility": null,
       "width": null
      }
     },
     "6ed81cd096c348ef8631ecd05de4ee8d": {
      "model_module": "@jupyter-widgets/controls",
      "model_module_version": "1.5.0",
      "model_name": "FloatProgressModel",
      "state": {
       "_dom_classes": [],
       "_model_module": "@jupyter-widgets/controls",
       "_model_module_version": "1.5.0",
       "_model_name": "FloatProgressModel",
       "_view_count": null,
       "_view_module": "@jupyter-widgets/controls",
       "_view_module_version": "1.5.0",
       "_view_name": "ProgressView",
       "bar_style": "success",
       "description": "",
       "description_tooltip": null,
       "layout": "IPY_MODEL_faaa6027d4be41e9a2b9a3363f47460e",
       "max": 3.0,
       "min": 0.0,
       "orientation": "horizontal",
       "style": "IPY_MODEL_bc921f12c1334908b84a32b71d8b8e72",
       "value": 3.0
      }
     },
     "8bc6c05596374a0f839b426516742b11": {
      "model_module": "@jupyter-widgets/controls",
      "model_module_version": "1.5.0",
      "model_name": "ProgressStyleModel",
      "state": {
       "_model_module": "@jupyter-widgets/controls",
       "_model_module_version": "1.5.0",
       "_model_name": "ProgressStyleModel",
       "_view_count": null,
       "_view_module": "@jupyter-widgets/base",
       "_view_module_version": "1.2.0",
       "_view_name": "StyleView",
       "bar_color": null,
       "description_width": ""
      }
     },
     "a2fc9a3dc98b4777970b5af494c32d3e": {
      "model_module": "@jupyter-widgets/controls",
      "model_module_version": "1.5.0",
      "model_name": "DescriptionStyleModel",
      "state": {
       "_model_module": "@jupyter-widgets/controls",
       "_model_module_version": "1.5.0",
       "_model_name": "DescriptionStyleModel",
       "_view_count": null,
       "_view_module": "@jupyter-widgets/base",
       "_view_module_version": "1.2.0",
       "_view_name": "StyleView",
       "description_width": ""
      }
     },
     "a6ef51cf814741648126fd95f54bd104": {
      "model_module": "@jupyter-widgets/base",
      "model_module_version": "1.2.0",
      "model_name": "LayoutModel",
      "state": {
       "_model_module": "@jupyter-widgets/base",
       "_model_module_version": "1.2.0",
       "_model_name": "LayoutModel",
       "_view_count": null,
       "_view_module": "@jupyter-widgets/base",
       "_view_module_version": "1.2.0",
       "_view_name": "LayoutView",
       "align_content": null,
       "align_items": null,
       "align_self": null,
       "border": null,
       "bottom": null,
       "display": null,
       "flex": null,
       "flex_flow": null,
       "grid_area": null,
       "grid_auto_columns": null,
       "grid_auto_flow": null,
       "grid_auto_rows": null,
       "grid_column": null,
       "grid_gap": null,
       "grid_row": null,
       "grid_template_areas": null,
       "grid_template_columns": null,
       "grid_template_rows": null,
       "height": null,
       "justify_content": null,
       "justify_items": null,
       "left": null,
       "margin": null,
       "max_height": null,
       "max_width": null,
       "min_height": null,
       "min_width": null,
       "object_fit": null,
       "object_position": null,
       "order": null,
       "overflow": null,
       "overflow_x": null,
       "overflow_y": null,
       "padding": null,
       "right": null,
       "top": null,
       "visibility": null,
       "width": null
      }
     },
     "ba2a7fe4bdfa4d1caad5244174d8d98f": {
      "model_module": "@jupyter-widgets/controls",
      "model_module_version": "1.5.0",
      "model_name": "HTMLModel",
      "state": {
       "_dom_classes": [],
       "_model_module": "@jupyter-widgets/controls",
       "_model_module_version": "1.5.0",
       "_model_name": "HTMLModel",
       "_view_count": null,
       "_view_module": "@jupyter-widgets/controls",
       "_view_module_version": "1.5.0",
       "_view_name": "HTMLView",
       "description": "",
       "description_tooltip": null,
       "layout": "IPY_MODEL_20c82f7745a24bc789869c1b1da4c774",
       "placeholder": "​",
       "style": "IPY_MODEL_a2fc9a3dc98b4777970b5af494c32d3e",
       "value": "100%"
      }
     },
     "bc921f12c1334908b84a32b71d8b8e72": {
      "model_module": "@jupyter-widgets/controls",
      "model_module_version": "1.5.0",
      "model_name": "ProgressStyleModel",
      "state": {
       "_model_module": "@jupyter-widgets/controls",
       "_model_module_version": "1.5.0",
       "_model_name": "ProgressStyleModel",
       "_view_count": null,
       "_view_module": "@jupyter-widgets/base",
       "_view_module_version": "1.2.0",
       "_view_name": "StyleView",
       "bar_color": null,
       "description_width": ""
      }
     },
     "c72c85eb8cef4b96b1062bc66cf81e7d": {
      "model_module": "@jupyter-widgets/base",
      "model_module_version": "1.2.0",
      "model_name": "LayoutModel",
      "state": {
       "_model_module": "@jupyter-widgets/base",
       "_model_module_version": "1.2.0",
       "_model_name": "LayoutModel",
       "_view_count": null,
       "_view_module": "@jupyter-widgets/base",
       "_view_module_version": "1.2.0",
       "_view_name": "LayoutView",
       "align_content": null,
       "align_items": null,
       "align_self": null,
       "border": null,
       "bottom": null,
       "display": null,
       "flex": null,
       "flex_flow": null,
       "grid_area": null,
       "grid_auto_columns": null,
       "grid_auto_flow": null,
       "grid_auto_rows": null,
       "grid_column": null,
       "grid_gap": null,
       "grid_row": null,
       "grid_template_areas": null,
       "grid_template_columns": null,
       "grid_template_rows": null,
       "height": null,
       "justify_content": null,
       "justify_items": null,
       "left": null,
       "margin": null,
       "max_height": null,
       "max_width": null,
       "min_height": null,
       "min_width": null,
       "object_fit": null,
       "object_position": null,
       "order": null,
       "overflow": null,
       "overflow_x": null,
       "overflow_y": null,
       "padding": null,
       "right": null,
       "top": null,
       "visibility": null,
       "width": null
      }
     },
     "ebcf07973004454b832c23d3a277b97e": {
      "model_module": "@jupyter-widgets/controls",
      "model_module_version": "1.5.0",
      "model_name": "HTMLModel",
      "state": {
       "_dom_classes": [],
       "_model_module": "@jupyter-widgets/controls",
       "_model_module_version": "1.5.0",
       "_model_name": "HTMLModel",
       "_view_count": null,
       "_view_module": "@jupyter-widgets/controls",
       "_view_module_version": "1.5.0",
       "_view_name": "HTMLView",
       "description": "",
       "description_tooltip": null,
       "layout": "IPY_MODEL_67001257c823485c919c7c7be7c6d0c7",
       "placeholder": "​",
       "style": "IPY_MODEL_07a74f090fb04ae69486f384301c5a6f",
       "value": "100%"
      }
     },
     "faaa6027d4be41e9a2b9a3363f47460e": {
      "model_module": "@jupyter-widgets/base",
      "model_module_version": "1.2.0",
      "model_name": "LayoutModel",
      "state": {
       "_model_module": "@jupyter-widgets/base",
       "_model_module_version": "1.2.0",
       "_model_name": "LayoutModel",
       "_view_count": null,
       "_view_module": "@jupyter-widgets/base",
       "_view_module_version": "1.2.0",
       "_view_name": "LayoutView",
       "align_content": null,
       "align_items": null,
       "align_self": null,
       "border": null,
       "bottom": null,
       "display": null,
       "flex": null,
       "flex_flow": null,
       "grid_area": null,
       "grid_auto_columns": null,
       "grid_auto_flow": null,
       "grid_auto_rows": null,
       "grid_column": null,
       "grid_gap": null,
       "grid_row": null,
       "grid_template_areas": null,
       "grid_template_columns": null,
       "grid_template_rows": null,
       "height": null,
       "justify_content": null,
       "justify_items": null,
       "left": null,
       "margin": null,
       "max_height": null,
       "max_width": null,
       "min_height": null,
       "min_width": null,
       "object_fit": null,
       "object_position": null,
       "order": null,
       "overflow": null,
       "overflow_x": null,
       "overflow_y": null,
       "padding": null,
       "right": null,
       "top": null,
       "visibility": null,
       "width": null
      }
     },
     "ffa02054dfe74124a40be3b79eed22d9": {
      "model_module": "@jupyter-widgets/base",
      "model_module_version": "1.2.0",
      "model_name": "LayoutModel",
      "state": {
       "_model_module": "@jupyter-widgets/base",
       "_model_module_version": "1.2.0",
       "_model_name": "LayoutModel",
       "_view_count": null,
       "_view_module": "@jupyter-widgets/base",
       "_view_module_version": "1.2.0",
       "_view_name": "LayoutView",
       "align_content": null,
       "align_items": null,
       "align_self": null,
       "border": null,
       "bottom": null,
       "display": null,
       "flex": null,
       "flex_flow": null,
       "grid_area": null,
       "grid_auto_columns": null,
       "grid_auto_flow": null,
       "grid_auto_rows": null,
       "grid_column": null,
       "grid_gap": null,
       "grid_row": null,
       "grid_template_areas": null,
       "grid_template_columns": null,
       "grid_template_rows": null,
       "height": null,
       "justify_content": null,
       "justify_items": null,
       "left": null,
       "margin": null,
       "max_height": null,
       "max_width": null,
       "min_height": null,
       "min_width": null,
       "object_fit": null,
       "object_position": null,
       "order": null,
       "overflow": null,
       "overflow_x": null,
       "overflow_y": null,
       "padding": null,
       "right": null,
       "top": null,
       "visibility": null,
       "width": null
      }
     }
    },
    "version_major": 2,
    "version_minor": 0
   }
  }
 },
 "nbformat": 4,
 "nbformat_minor": 5
}
